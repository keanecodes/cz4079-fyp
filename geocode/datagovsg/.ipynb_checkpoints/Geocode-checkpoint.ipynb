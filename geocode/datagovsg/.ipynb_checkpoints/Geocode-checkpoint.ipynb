{
 "cells": [
  {
   "cell_type": "markdown",
   "id": "signal-projector",
   "metadata": {},
   "source": [
    "# Geocode Singapore Addresses"
   ]
  },
  {
   "cell_type": "code",
   "execution_count": 1,
   "id": "found-pleasure",
   "metadata": {},
   "outputs": [],
   "source": [
    "import pandas as pd\n",
    "import glob\n",
    "import geopandas as gpd\n",
    "import geopy\n",
    "from geopy.geocoders import Nominatim\n",
    "from geopy.extra.rate_limiter import RateLimiter"
   ]
  },
  {
   "cell_type": "code",
   "execution_count": 2,
   "id": "capital-class",
   "metadata": {},
   "outputs": [
    {
     "name": "stdout",
     "output_type": "stream",
     "text": [
      "<class 'pandas.core.frame.DataFrame'>\n",
      "RangeIndex: 746207 entries, 0 to 746206\n",
      "Data columns (total 11 columns):\n",
      " #   Column               Non-Null Count   Dtype  \n",
      "---  ------               --------------   -----  \n",
      " 0   month                746207 non-null  object \n",
      " 1   town                 746207 non-null  object \n",
      " 2   flat_type            746207 non-null  object \n",
      " 3   block                746207 non-null  object \n",
      " 4   street_name          746207 non-null  object \n",
      " 5   storey_range         746207 non-null  object \n",
      " 6   floor_area_sqm       746207 non-null  float64\n",
      " 7   flat_model           746207 non-null  object \n",
      " 8   lease_commence_date  746207 non-null  int64  \n",
      " 9   resale_price         746207 non-null  float64\n",
      " 10  remaining_lease      37153 non-null   float64\n",
      "dtypes: float64(3), int64(1), object(7)\n",
      "memory usage: 62.6+ MB\n"
     ]
    }
   ],
   "source": [
    "resale_price_all = glob.glob(\"./*.csv\")\n",
    "\n",
    "li = []\n",
    "\n",
    "for filename in resale_price_all:\n",
    "    df = pd.read_csv(filename, index_col=None, header=0)\n",
    "    li.append(df)\n",
    "\n",
    "resale_df = pd.concat(li, axis=0, ignore_index=True)\n",
    "resale_df.head()\n",
    "resale_df.info()"
   ]
  },
  {
   "cell_type": "code",
   "execution_count": 3,
   "id": "according-architecture",
   "metadata": {},
   "outputs": [
    {
     "data": {
      "text/html": [
       "<div>\n",
       "<style scoped>\n",
       "    .dataframe tbody tr th:only-of-type {\n",
       "        vertical-align: middle;\n",
       "    }\n",
       "\n",
       "    .dataframe tbody tr th {\n",
       "        vertical-align: top;\n",
       "    }\n",
       "\n",
       "    .dataframe thead th {\n",
       "        text-align: right;\n",
       "    }\n",
       "</style>\n",
       "<table border=\"1\" class=\"dataframe\">\n",
       "  <thead>\n",
       "    <tr style=\"text-align: right;\">\n",
       "      <th></th>\n",
       "      <th>month</th>\n",
       "      <th>town</th>\n",
       "      <th>flat_type</th>\n",
       "      <th>block</th>\n",
       "      <th>street_name</th>\n",
       "      <th>storey_range</th>\n",
       "      <th>floor_area_sqm</th>\n",
       "      <th>flat_model</th>\n",
       "      <th>lease_commence_date</th>\n",
       "      <th>resale_price</th>\n",
       "      <th>remaining_lease</th>\n",
       "      <th>ADDRESS</th>\n",
       "    </tr>\n",
       "  </thead>\n",
       "  <tbody>\n",
       "    <tr>\n",
       "      <th>0</th>\n",
       "      <td>2012-03</td>\n",
       "      <td>ANG MO KIO</td>\n",
       "      <td>2 ROOM</td>\n",
       "      <td>172</td>\n",
       "      <td>ANG MO KIO AVE 4</td>\n",
       "      <td>06 TO 10</td>\n",
       "      <td>45.0</td>\n",
       "      <td>Improved</td>\n",
       "      <td>1986</td>\n",
       "      <td>250000.0</td>\n",
       "      <td>NaN</td>\n",
       "      <td>174 ANG MO KIO AVE 4, Singapore</td>\n",
       "    </tr>\n",
       "    <tr>\n",
       "      <th>1</th>\n",
       "      <td>2012-03</td>\n",
       "      <td>ANG MO KIO</td>\n",
       "      <td>2 ROOM</td>\n",
       "      <td>510</td>\n",
       "      <td>ANG MO KIO AVE 8</td>\n",
       "      <td>01 TO 05</td>\n",
       "      <td>44.0</td>\n",
       "      <td>Improved</td>\n",
       "      <td>1980</td>\n",
       "      <td>265000.0</td>\n",
       "      <td>NaN</td>\n",
       "      <td>541 ANG MO KIO AVE 10, Singapore</td>\n",
       "    </tr>\n",
       "    <tr>\n",
       "      <th>2</th>\n",
       "      <td>2012-03</td>\n",
       "      <td>ANG MO KIO</td>\n",
       "      <td>3 ROOM</td>\n",
       "      <td>610</td>\n",
       "      <td>ANG MO KIO AVE 4</td>\n",
       "      <td>06 TO 10</td>\n",
       "      <td>68.0</td>\n",
       "      <td>New Generation</td>\n",
       "      <td>1980</td>\n",
       "      <td>315000.0</td>\n",
       "      <td>NaN</td>\n",
       "      <td>163 ANG MO KIO AVE 4, Singapore</td>\n",
       "    </tr>\n",
       "    <tr>\n",
       "      <th>3</th>\n",
       "      <td>2012-03</td>\n",
       "      <td>ANG MO KIO</td>\n",
       "      <td>3 ROOM</td>\n",
       "      <td>474</td>\n",
       "      <td>ANG MO KIO AVE 10</td>\n",
       "      <td>01 TO 05</td>\n",
       "      <td>67.0</td>\n",
       "      <td>New Generation</td>\n",
       "      <td>1984</td>\n",
       "      <td>320000.0</td>\n",
       "      <td>NaN</td>\n",
       "      <td>446 ANG MO KIO AVE 10, Singapore</td>\n",
       "    </tr>\n",
       "    <tr>\n",
       "      <th>4</th>\n",
       "      <td>2012-03</td>\n",
       "      <td>ANG MO KIO</td>\n",
       "      <td>3 ROOM</td>\n",
       "      <td>604</td>\n",
       "      <td>ANG MO KIO AVE 5</td>\n",
       "      <td>06 TO 10</td>\n",
       "      <td>67.0</td>\n",
       "      <td>New Generation</td>\n",
       "      <td>1980</td>\n",
       "      <td>321000.0</td>\n",
       "      <td>NaN</td>\n",
       "      <td>557 ANG MO KIO AVE 10, Singapore</td>\n",
       "    </tr>\n",
       "  </tbody>\n",
       "</table>\n",
       "</div>"
      ],
      "text/plain": [
       "     month        town flat_type block        street_name storey_range  \\\n",
       "0  2012-03  ANG MO KIO    2 ROOM   172   ANG MO KIO AVE 4     06 TO 10   \n",
       "1  2012-03  ANG MO KIO    2 ROOM   510   ANG MO KIO AVE 8     01 TO 05   \n",
       "2  2012-03  ANG MO KIO    3 ROOM   610   ANG MO KIO AVE 4     06 TO 10   \n",
       "3  2012-03  ANG MO KIO    3 ROOM   474  ANG MO KIO AVE 10     01 TO 05   \n",
       "4  2012-03  ANG MO KIO    3 ROOM   604   ANG MO KIO AVE 5     06 TO 10   \n",
       "\n",
       "   floor_area_sqm      flat_model  lease_commence_date  resale_price  \\\n",
       "0            45.0        Improved                 1986      250000.0   \n",
       "1            44.0        Improved                 1980      265000.0   \n",
       "2            68.0  New Generation                 1980      315000.0   \n",
       "3            67.0  New Generation                 1984      320000.0   \n",
       "4            67.0  New Generation                 1980      321000.0   \n",
       "\n",
       "   remaining_lease                           ADDRESS  \n",
       "0              NaN   174 ANG MO KIO AVE 4, Singapore  \n",
       "1              NaN  541 ANG MO KIO AVE 10, Singapore  \n",
       "2              NaN   163 ANG MO KIO AVE 4, Singapore  \n",
       "3              NaN  446 ANG MO KIO AVE 10, Singapore  \n",
       "4              NaN  557 ANG MO KIO AVE 10, Singapore  "
      ]
     },
     "execution_count": 3,
     "metadata": {},
     "output_type": "execute_result"
    }
   ],
   "source": [
    "resale_df['ADDRESS'] = df['block'].astype(str) + ' ' + df['street_name'] + ',' + ' Singapore'   \n",
    "\n",
    "resale_df.head()"
   ]
  },
  {
   "cell_type": "code",
   "execution_count": 4,
   "id": "conservative-refund",
   "metadata": {},
   "outputs": [],
   "source": [
    "from geopy.extra.rate_limiter import RateLimiter\n",
    "locator = Nominatim(user_agent=\"myGeocoder\")\n",
    "geocode = RateLimiter(locator.geocode, min_delay_seconds=0.2)"
   ]
  },
  {
   "cell_type": "code",
   "execution_count": null,
   "id": "lonely-authority",
   "metadata": {},
   "outputs": [],
   "source": [
    "resale_df['location'] = resale_df['ADDRESS'].apply(geocode)\n",
    "resale_df.head()"
   ]
  },
  {
   "cell_type": "code",
   "execution_count": null,
   "id": "palestinian-password",
   "metadata": {},
   "outputs": [],
   "source": [
    "resale_df['point'] = resale_df['location'].apply(lambda loc: tuple(loc.point) if loc else None)\n",
    "resale_df[['latitude', 'longitude','altitude']] = pd.DataFrame(resale_df['point'].tolist(), index=resale_df.index)\n",
    "resale_df.head()"
   ]
  },
  {
   "cell_type": "code",
   "execution_count": null,
   "id": "intimate-fundamentals",
   "metadata": {},
   "outputs": [],
   "source": [
    "resale_df = resale_df.drop(['block', 'street_name', 'point', 'location', 'altitude'], axis=1)\n",
    "resale_df.head()"
   ]
  },
  {
   "cell_type": "code",
   "execution_count": 11,
   "id": "velvet-congress",
   "metadata": {},
   "outputs": [],
   "source": [
    "resale_df.to_csv('./resale.csv', index=False)"
   ]
  },
  {
   "cell_type": "code",
   "execution_count": null,
   "id": "military-vinyl",
   "metadata": {},
   "outputs": [],
   "source": []
  }
 ],
 "metadata": {
  "kernelspec": {
   "display_name": "Python 3",
   "language": "python",
   "name": "python3"
  },
  "language_info": {
   "codemirror_mode": {
    "name": "ipython",
    "version": 3
   },
   "file_extension": ".py",
   "mimetype": "text/x-python",
   "name": "python",
   "nbconvert_exporter": "python",
   "pygments_lexer": "ipython3",
   "version": "3.8.5"
  }
 },
 "nbformat": 4,
 "nbformat_minor": 5
}
